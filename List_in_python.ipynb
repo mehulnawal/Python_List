{
  "nbformat": 4,
  "nbformat_minor": 0,
  "metadata": {
    "colab": {
      "provenance": [],
      "authorship_tag": "ABX9TyPKE/qMeM9MJ0PJzZvb8sZR",
      "include_colab_link": true
    },
    "kernelspec": {
      "name": "python3",
      "display_name": "Python 3"
    },
    "language_info": {
      "name": "python"
    }
  },
  "cells": [
    {
      "cell_type": "markdown",
      "metadata": {
        "id": "view-in-github",
        "colab_type": "text"
      },
      "source": [
        "<a href=\"https://colab.research.google.com/github/mehulnawal/Python_List/blob/main/List_in_python.ipynb\" target=\"_parent\"><img src=\"https://colab.research.google.com/assets/colab-badge.svg\" alt=\"Open In Colab\"/></a>"
      ]
    },
    {
      "cell_type": "markdown",
      "source": [
        "#List Creation\n"
      ],
      "metadata": {
        "id": "_p1u05EoX9su"
      }
    },
    {
      "cell_type": "code",
      "source": [
        "mylist = [1,2,3,4,5,'mehul','nawal']\n",
        "mylist\n"
      ],
      "metadata": {
        "colab": {
          "base_uri": "https://localhost:8080/"
        },
        "id": "eRcE4E0EYKZb",
        "outputId": "15ab3b6f-945d-419c-98d5-c0e902028e82"
      },
      "execution_count": null,
      "outputs": [
        {
          "output_type": "execute_result",
          "data": {
            "text/plain": [
              "[1, 2, 3, 4, 5, 'mehul', 'nawal']"
            ]
          },
          "metadata": {},
          "execution_count": 2
        }
      ]
    },
    {
      "cell_type": "markdown",
      "source": [
        "#Add, Remove And Change items in list\n"
      ],
      "metadata": {
        "id": "XVZwcxJYYaRw"
      }
    },
    {
      "cell_type": "code",
      "source": [
        "mylist"
      ],
      "metadata": {
        "colab": {
          "base_uri": "https://localhost:8080/"
        },
        "id": "46xIqvKFYZ66",
        "outputId": "cf9c8679-6da5-40ec-f862-199fccde815a"
      },
      "execution_count": null,
      "outputs": [
        {
          "output_type": "execute_result",
          "data": {
            "text/plain": [
              "[1, 2, 3, 4, 5, 'mehul', 'nawal']"
            ]
          },
          "metadata": {},
          "execution_count": 3
        }
      ]
    },
    {
      "cell_type": "markdown",
      "source": [
        "#append"
      ],
      "metadata": {
        "id": "kPDBcpgLYnI7"
      }
    },
    {
      "cell_type": "code",
      "source": [
        "mylist.append('nawal')\n",
        "mylist"
      ],
      "metadata": {
        "colab": {
          "base_uri": "https://localhost:8080/"
        },
        "id": "8i3dkco3YjoK",
        "outputId": "ffe651c4-0aff-4ed6-d076-0906d5f36e85"
      },
      "execution_count": null,
      "outputs": [
        {
          "output_type": "execute_result",
          "data": {
            "text/plain": [
              "[1, 2, 3, 4, 5, 'mehul', 'nawal', 'sonu', 'sonu', 'sonu', 'nawal']"
            ]
          },
          "metadata": {},
          "execution_count": 7
        }
      ]
    },
    {
      "cell_type": "code",
      "source": [
        "# insert \n",
        "mylist.insert(5,6)\n",
        "mylist"
      ],
      "metadata": {
        "colab": {
          "base_uri": "https://localhost:8080/"
        },
        "id": "f8FoxMl3Y2Qx",
        "outputId": "c4324dff-248f-401f-c2ad-37ac5c2cf49e"
      },
      "execution_count": null,
      "outputs": [
        {
          "output_type": "execute_result",
          "data": {
            "text/plain": [
              "[1, 2, 3, 4, 5, 6, 'mehul', 'nawal', 'sonu', 'sonu', 'sonu', 'nawal']"
            ]
          },
          "metadata": {},
          "execution_count": 8
        }
      ]
    },
    {
      "cell_type": "code",
      "source": [
        "# remove\n",
        "mylist.remove('sonu')\n",
        "mylist"
      ],
      "metadata": {
        "colab": {
          "base_uri": "https://localhost:8080/"
        },
        "id": "aePApZubY_gK",
        "outputId": "35bb5cac-a0a2-4d98-be3f-32ecb4fadeee"
      },
      "execution_count": null,
      "outputs": [
        {
          "output_type": "execute_result",
          "data": {
            "text/plain": [
              "[1, 2, 3, 4, 5, 6, 'mehul', 'nawal', 'sonu', 'sonu', 'nawal']"
            ]
          },
          "metadata": {},
          "execution_count": 9
        }
      ]
    },
    {
      "cell_type": "code",
      "source": [
        "mylist.append('sonu')\n",
        "# pop\n",
        "mylist.pop()\n",
        "# pop with indexing\n",
        "mylist.pop(0)\n",
        "mylist"
      ],
      "metadata": {
        "colab": {
          "base_uri": "https://localhost:8080/"
        },
        "id": "1iUS_nxDZJ2t",
        "outputId": "a0330662-875e-4482-e767-6fa907d6d2bb"
      },
      "execution_count": null,
      "outputs": [
        {
          "output_type": "execute_result",
          "data": {
            "text/plain": [
              "[2, 4, 5, 6, 'mehul', 'nawal', 'sonu']"
            ]
          },
          "metadata": {},
          "execution_count": 14
        }
      ]
    },
    {
      "cell_type": "code",
      "source": [
        "# del with indexing\n",
        "del mylist[2]\n",
        "mylist"
      ],
      "metadata": {
        "colab": {
          "base_uri": "https://localhost:8080/"
        },
        "id": "DE4se86NZlah",
        "outputId": "a9138d19-6011-4778-dfd3-1d9efbad160f"
      },
      "execution_count": null,
      "outputs": [
        {
          "output_type": "execute_result",
          "data": {
            "text/plain": [
              "[2, 4, 6, 'mehul', 'nawal', 'sonu']"
            ]
          },
          "metadata": {},
          "execution_count": 15
        }
      ]
    },
    {
      "cell_type": "code",
      "source": [
        "# change the value in list\n",
        "mylist[0] = 45\n",
        "mylist"
      ],
      "metadata": {
        "colab": {
          "base_uri": "https://localhost:8080/"
        },
        "id": "s_8M9KT_Z7v7",
        "outputId": "2622c0a9-9f2c-4d66-e17a-379cf93e93e1"
      },
      "execution_count": null,
      "outputs": [
        {
          "output_type": "execute_result",
          "data": {
            "text/plain": [
              "[45, 4, 6, 'mehul', 'nawal', 'sonu']"
            ]
          },
          "metadata": {},
          "execution_count": 16
        }
      ]
    },
    {
      "cell_type": "code",
      "source": [
        "# clear - to delete whole list\n",
        "mylist.clear()\n",
        "mylist"
      ],
      "metadata": {
        "colab": {
          "base_uri": "https://localhost:8080/"
        },
        "id": "jaoHRCOnaGFV",
        "outputId": "1811a244-27dc-45ed-bc10-2c086b87480f"
      },
      "execution_count": null,
      "outputs": [
        {
          "output_type": "execute_result",
          "data": {
            "text/plain": [
              "[]"
            ]
          },
          "metadata": {},
          "execution_count": 17
        }
      ]
    },
    {
      "cell_type": "code",
      "source": [
        "mylist = [1.2,2,3,5,6,7,53,3,4,53,23,56]\n",
        "# id = to show the address of list \n",
        "print(id(mylist))"
      ],
      "metadata": {
        "colab": {
          "base_uri": "https://localhost:8080/"
        },
        "id": "1jnqPWlwaQ-R",
        "outputId": "23a49d11-7d17-4ae1-b4a2-86b0567967fe"
      },
      "execution_count": null,
      "outputs": [
        {
          "output_type": "stream",
          "name": "stdout",
          "text": [
            "140399597017344\n"
          ]
        }
      ]
    },
    {
      "cell_type": "markdown",
      "source": [
        "#Join in list"
      ],
      "metadata": {
        "id": "MT_EV_tWarkk"
      }
    },
    {
      "cell_type": "code",
      "source": [
        "mylist"
      ],
      "metadata": {
        "colab": {
          "base_uri": "https://localhost:8080/"
        },
        "id": "ZLMiZKEXanIt",
        "outputId": "ac146614-c55e-486c-a6aa-d19bdafdb47e"
      },
      "execution_count": null,
      "outputs": [
        {
          "output_type": "execute_result",
          "data": {
            "text/plain": [
              "[1.2, 2, 3, 5, 6, 7, 53, 3, 4, 53, 23, 56]"
            ]
          },
          "metadata": {},
          "execution_count": 21
        }
      ]
    },
    {
      "cell_type": "code",
      "source": [
        "mylist2 = ['m','e','w','r']\n",
        "mylist2\n",
        "# to join mylist and mylist2\n",
        "mylist3 = [mylist , mylist2]\n",
        "print(mylist3)\n",
        "\n"
      ],
      "metadata": {
        "colab": {
          "base_uri": "https://localhost:8080/"
        },
        "id": "l8fIOuDLax_U",
        "outputId": "4b47d165-6dbd-45c6-80f4-40244dac0e7b"
      },
      "execution_count": null,
      "outputs": [
        {
          "output_type": "stream",
          "name": "stdout",
          "text": [
            "[[1.2, 2, 3, 5, 6, 7, 53, 3, 4, 53, 23, 56], ['m', 'e', 'w', 'r']]\n"
          ]
        }
      ]
    },
    {
      "cell_type": "markdown",
      "source": [
        "#Life Membership"
      ],
      "metadata": {
        "id": "x81r0Fo1ba7a"
      }
    },
    {
      "cell_type": "code",
      "source": [
        "print(mylist,\"\\n\",mylist2)\n"
      ],
      "metadata": {
        "colab": {
          "base_uri": "https://localhost:8080/"
        },
        "id": "rsPH5jx3bYx5",
        "outputId": "8c49d5aa-ffde-413b-a3c7-0a30c0c12008"
      },
      "execution_count": null,
      "outputs": [
        {
          "output_type": "stream",
          "name": "stdout",
          "text": [
            "[1.2, 2, 3, 5, 6, 7, 53, 3, 4, 53, 23, 56] \n",
            " ['m', 'e', 'w', 'r']\n"
          ]
        }
      ]
    },
    {
      "cell_type": "code",
      "source": [
        "'53' in mylist"
      ],
      "metadata": {
        "colab": {
          "base_uri": "https://localhost:8080/"
        },
        "id": "93J_r34pbzaZ",
        "outputId": "bbbf31be-672d-4df6-af19-203fad88deb1"
      },
      "execution_count": null,
      "outputs": [
        {
          "output_type": "execute_result",
          "data": {
            "text/plain": [
              "False"
            ]
          },
          "metadata": {},
          "execution_count": 42
        }
      ]
    },
    {
      "cell_type": "markdown",
      "source": [
        "#Reverse and Sort lsit"
      ],
      "metadata": {
        "id": "gtXFC5NacUUP"
      }
    },
    {
      "cell_type": "code",
      "source": [
        "# To reverse a list\n",
        "print(mylist.reverse())\n",
        "# another way to reverse a list in \n",
        "print(mylist[::-1])"
      ],
      "metadata": {
        "colab": {
          "base_uri": "https://localhost:8080/"
        },
        "id": "uOnYMDF_cB2_",
        "outputId": "c825949e-b1c3-486d-eeca-33fbf70eecab"
      },
      "execution_count": null,
      "outputs": [
        {
          "output_type": "stream",
          "name": "stdout",
          "text": [
            "None\n",
            "[56, 23, 53, 4, 3, 53, 7, 6, 5, 3, 2, 1.2]\n"
          ]
        }
      ]
    },
    {
      "cell_type": "code",
      "source": [
        "mylist = [1,2,3,4,5,7,6,5,32,42,5,63,2,454,6,43]\n",
        "mylist\n",
        "# to sort the list in ascending order\n",
        "mylist.sort()\n",
        "print(mylist)\n",
        "\n",
        "#to sort the list in descending order\n",
        "mylist.sort(reverse = True)\n",
        "print(mylist)"
      ],
      "metadata": {
        "colab": {
          "base_uri": "https://localhost:8080/"
        },
        "id": "ewM0drTFd3HE",
        "outputId": "9be9a07e-cbe5-4a00-84c7-2bf6941c1d90"
      },
      "execution_count": null,
      "outputs": [
        {
          "output_type": "stream",
          "name": "stdout",
          "text": [
            "[1, 2, 2, 3, 4, 5, 5, 5, 6, 6, 7, 32, 42, 43, 63, 454]\n",
            "[454, 63, 43, 42, 32, 7, 6, 6, 5, 5, 5, 4, 3, 2, 2, 1]\n"
          ]
        }
      ]
    },
    {
      "cell_type": "markdown",
      "source": [
        "#Loop through in list\n"
      ],
      "metadata": {
        "id": "ILOrVictfQZZ"
      }
    },
    {
      "cell_type": "code",
      "source": [
        "for i in mylist:\n",
        "    print(i)"
      ],
      "metadata": {
        "colab": {
          "base_uri": "https://localhost:8080/"
        },
        "id": "D1MUN00cfVqf",
        "outputId": "c61de6a8-a675-477b-cf38-a87bda382a2a"
      },
      "execution_count": null,
      "outputs": [
        {
          "output_type": "stream",
          "name": "stdout",
          "text": [
            "1.2\n",
            "2\n",
            "3\n",
            "3\n",
            "4\n",
            "5\n",
            "6\n",
            "7\n",
            "23\n",
            "53\n",
            "53\n",
            "56\n"
          ]
        }
      ]
    },
    {
      "cell_type": "code",
      "source": [
        "for i in enumerate(mylist):\n",
        "          print(i)"
      ],
      "metadata": {
        "colab": {
          "base_uri": "https://localhost:8080/"
        },
        "id": "Q1Hf3JwwflP0",
        "outputId": "67f80b8b-6173-4101-da8b-da99cee66390"
      },
      "execution_count": null,
      "outputs": [
        {
          "output_type": "stream",
          "name": "stdout",
          "text": [
            "(0, 1.2)\n",
            "(1, 2)\n",
            "(2, 3)\n",
            "(3, 3)\n",
            "(4, 4)\n",
            "(5, 5)\n",
            "(6, 6)\n",
            "(7, 7)\n",
            "(8, 23)\n",
            "(9, 53)\n",
            "(10, 53)\n",
            "(11, 56)\n"
          ]
        }
      ]
    },
    {
      "cell_type": "markdown",
      "source": [
        "#Count\n"
      ],
      "metadata": {
        "id": "HdsD8EiEgCY2"
      }
    },
    {
      "cell_type": "code",
      "source": [
        "print(mylist.count(23))"
      ],
      "metadata": {
        "colab": {
          "base_uri": "https://localhost:8080/"
        },
        "id": "BZwWuwbPf-cF",
        "outputId": "04c8d3c7-cbce-4a97-d1ca-f7ee5babb29f"
      },
      "execution_count": null,
      "outputs": [
        {
          "output_type": "stream",
          "name": "stdout",
          "text": [
            "1\n"
          ]
        }
      ]
    },
    {
      "cell_type": "markdown",
      "source": [
        "#Length of a list"
      ],
      "metadata": {
        "id": "jszN0gGlgeON"
      }
    },
    {
      "cell_type": "code",
      "source": [
        "print(len(mylist))"
      ],
      "metadata": {
        "colab": {
          "base_uri": "https://localhost:8080/"
        },
        "id": "VpjInszFgdQf",
        "outputId": "61158ef0-2934-45be-f93d-47353019540e"
      },
      "execution_count": null,
      "outputs": [
        {
          "output_type": "stream",
          "name": "stdout",
          "text": [
            "12\n"
          ]
        }
      ]
    },
    {
      "cell_type": "markdown",
      "source": [
        "#All/ Any"
      ],
      "metadata": {
        "id": "5uiu2coBgku7"
      }
    },
    {
      "cell_type": "code",
      "source": [
        "l1 = [1,2,3,4,5,0]\n",
        "all(l1) # will writen false as one value is false means 0\n",
        "l2 = [1,2,3]\n",
        "all(l2) # will writen true as we no value is false means 0 "
      ],
      "metadata": {
        "colab": {
          "base_uri": "https://localhost:8080/"
        },
        "id": "zHjuopAbgpZG",
        "outputId": "a50a7ffb-7aa6-4425-9b21-1227a070919b"
      },
      "execution_count": null,
      "outputs": [
        {
          "output_type": "execute_result",
          "data": {
            "text/plain": [
              "True"
            ]
          },
          "metadata": {},
          "execution_count": 87
        }
      ]
    },
    {
      "cell_type": "markdown",
      "source": [
        "#List Comprehensions"
      ],
      "metadata": {
        "id": "uzsq3gsJgs9V"
      }
    },
    {
      "cell_type": "code",
      "source": [
        "a = ['mynameismehul']\n",
        "print(list('mynameismehul'))\n",
        "print(list(a))"
      ],
      "metadata": {
        "colab": {
          "base_uri": "https://localhost:8080/"
        },
        "id": "MGze9QH_nR8o",
        "outputId": "2863ee76-9597-4a85-eab0-6452e494bfbf"
      },
      "execution_count": null,
      "outputs": [
        {
          "output_type": "stream",
          "name": "stdout",
          "text": [
            "['m', 'y', 'n', 'a', 'm', 'e', 'i', 's', 'm', 'e', 'h', 'u', 'l']\n",
            "['mynameismehul']\n"
          ]
        }
      ]
    },
    {
      "cell_type": "code",
      "source": [
        "mystring  = \"welcome\"\n",
        "print(list(mystring))"
      ],
      "metadata": {
        "colab": {
          "base_uri": "https://localhost:8080/"
        },
        "id": "2rHjXUeOrc_A",
        "outputId": "e8d1161f-567f-4387-b2ff-8c5855e64dad"
      },
      "execution_count": null,
      "outputs": [
        {
          "output_type": "stream",
          "name": "stdout",
          "text": [
            "['w', 'e', 'l', 'c', 'o', 'm', 'e']\n"
          ]
        }
      ]
    },
    {
      "cell_type": "markdown",
      "source": [
        "#Expression For item in list"
      ],
      "metadata": {
        "id": "wVKz-dfvqyAp"
      }
    },
    {
      "cell_type": "code",
      "source": [
        "# muliply the whole list by 2\n",
        "b = (1,2,3,4)\n",
        "print(b*2)"
      ],
      "metadata": {
        "colab": {
          "base_uri": "https://localhost:8080/"
        },
        "id": "wdwxhvHsnSdN",
        "outputId": "70611dd3-3302-4f79-e4f4-f7d96ad12d96"
      },
      "execution_count": null,
      "outputs": [
        {
          "output_type": "stream",
          "name": "stdout",
          "text": [
            "(1, 2, 3, 4, 1, 2, 3, 4)\n"
          ]
        }
      ]
    }
  ]
}